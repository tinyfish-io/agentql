{
  "nbformat": 4,
  "nbformat_minor": 0,
  "metadata": {
    "colab": {
      "provenance": [],
      "authorship_tag": "ABX9TyN+D8bbAfsSzsGIEJwCw5ln",
      "include_colab_link": true
    },
    "kernelspec": {
      "name": "python3",
      "display_name": "Python 3"
    },
    "language_info": {
      "name": "python"
    }
  },
  "cells": [
    {
      "cell_type": "markdown",
      "metadata": {
        "id": "view-in-github",
        "colab_type": "text"
      },
      "source": [
        "<a href=\"https://colab.research.google.com/github/tinyfish-io/fish-tank/blob/Google-Collab/application_examples/google_Colaboratory/agentQL.ipynb\" target=\"_parent\"><img src=\"https://colab.research.google.com/assets/colab-badge.svg\" alt=\"Open In Colab\"/></a>"
      ]
    },
    {
      "cell_type": "markdown",
      "source": [
        "This is Google Collab notebook with a simple AgentQL example."
      ],
      "metadata": {
        "id": "NL1z6COzYn31"
      }
    },
    {
      "cell_type": "markdown",
      "source": [
        "Install [AgentQL](https://pypi.org/project/webql/) library"
      ],
      "metadata": {
        "id": "cOG_eI8DY3co"
      }
    },
    {
      "cell_type": "code",
      "execution_count": null,
      "metadata": {
        "id": "mGqCFOMozoqj"
      },
      "outputs": [],
      "source": [
        "!pip install webql"
      ]
    },
    {
      "cell_type": "markdown",
      "source": [],
      "metadata": {
        "id": "0aRJ-fsSYs-P"
      }
    },
    {
      "cell_type": "markdown",
      "source": [
        "You can [store](https://x.com/GoogleColab/status/1719798406195867814?s=20\\) keys in Google Collab.\n",
        "\n",
        "\n"
      ],
      "metadata": {
        "id": "RzIO0v2VUDF9"
      }
    },
    {
      "cell_type": "code",
      "source": [
        "import os\n",
        "from google.colab import userdata\n",
        "\n",
        "os.environ[\"WEBQL_API_KEY\"]=userdata.get('WEBQL_API_KEY')"
      ],
      "metadata": {
        "id": "5a405Rl5lqT1"
      },
      "execution_count": null,
      "outputs": []
    },
    {
      "cell_type": "code",
      "source": [
        "!playwright install"
      ],
      "metadata": {
        "id": "Ckkq0ZY7vAp7"
      },
      "execution_count": null,
      "outputs": []
    },
    {
      "cell_type": "code",
      "source": [
        "import webql\n",
        "\n",
        "\n",
        "session = await webql.start_async_session(\"https://www.google.com\")\n",
        "\n",
        "QUERY = \"\"\"\n",
        "{\n",
        "    search_box\n",
        "    search_btn\n",
        "    about_link\n",
        "}\n",
        "\"\"\"\n",
        "\n",
        "response = await session.query(QUERY)\n",
        "\n",
        "aboutLinkText = await response.about_link.text_content()\n",
        "\n",
        "print(aboutLinkText)\n",
        "\n",
        "await response.search_box.fill(\"tinyfish\")\n",
        "await response.search_btn.click(force=True)\n",
        "\n",
        "\n",
        "session.stop()"
      ],
      "metadata": {
        "id": "W3IIXkPJ0iIX"
      },
      "execution_count": null,
      "outputs": []
    }
  ]
}