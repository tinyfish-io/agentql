{
  "cells": [
    {
      "cell_type": "markdown",
      "metadata": {
        "colab_type": "text",
        "id": "view-in-github"
      },
      "source": [
        "<a href=\"https://colab.research.google.com/github/tinyfish-io/fish-tank/blob/Google-Collab/application_examples/google_Colaboratory/agentQL.ipynb\" target=\"_parent\"><img src=\"https://colab.research.google.com/assets/colab-badge.svg\" alt=\"Open In Colab\"/></a>"
      ]
    },
    {
      "cell_type": "markdown",
      "metadata": {
        "id": "NL1z6COzYn31"
      },
      "source": [
        "This is Google Collab notebook with a simple AgentQL example."
      ]
    },
    {
      "cell_type": "markdown",
      "metadata": {
        "id": "cOG_eI8DY3co"
      },
      "source": [
        "Install [AgentQL](https://pypi.org/project/webql/) library"
      ]
    },
    {
      "cell_type": "code",
      "execution_count": null,
      "metadata": {
        "id": "mGqCFOMozoqj"
      },
      "outputs": [],
      "source": [
        "!pip install agentql"
      ]
    },
    {
      "cell_type": "markdown",
      "metadata": {
        "id": "0aRJ-fsSYs-P"
      },
      "source": []
    },
    {
      "cell_type": "markdown",
      "metadata": {
        "id": "RzIO0v2VUDF9"
      },
      "source": [
        "You can [store](https://x.com/GoogleColab/status/1719798406195867814?s=20\\) keys in Google Collab.\n",
        "\n",
        "\n"
      ]
    },
    {
      "cell_type": "code",
      "execution_count": null,
      "metadata": {
        "id": "5a405Rl5lqT1"
      },
      "outputs": [],
      "source": [
        "import os\n",
        "from google.colab import userdata\n",
        "\n",
        "os.environ[\"AGENTQL_API_KEY\"]=userdata.get('AGENTQL_API_KEY')"
      ]
    },
    {
      "cell_type": "code",
      "execution_count": null,
      "metadata": {
        "id": "Ckkq0ZY7vAp7"
      },
      "outputs": [],
      "source": [
        "!playwright install"
      ]
    },
    {
      "cell_type": "code",
      "execution_count": null,
      "metadata": {
        "id": "W3IIXkPJ0iIX"
      },
      "outputs": [],
      "source": [
        "import agentql\n",
        "\n",
        "\n",
        "session = await agentql.start_async_session(\"https://www.google.com\")\n",
        "\n",
        "QUERY = \"\"\"\n",
        "{\n",
        "    search_box\n",
        "    search_btn\n",
        "    about_link\n",
        "}\n",
        "\"\"\"\n",
        "\n",
        "response = await session.query(QUERY)\n",
        "\n",
        "aboutLinkText = await response.about_link.text_content()\n",
        "\n",
        "print(aboutLinkText)\n",
        "\n",
        "await response.search_box.fill(\"tinyfish\")\n",
        "await response.search_btn.click(force=True)\n",
        "\n",
        "\n",
        "session.stop()"
      ]
    }
  ],
  "metadata": {
    "colab": {
      "authorship_tag": "ABX9TyN+D8bbAfsSzsGIEJwCw5ln",
      "include_colab_link": true,
      "provenance": []
    },
    "kernelspec": {
      "display_name": "Python 3",
      "name": "python3"
    },
    "language_info": {
      "name": "python"
    }
  },
  "nbformat": 4,
  "nbformat_minor": 0
}
