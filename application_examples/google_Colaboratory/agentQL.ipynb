{
  "cells": [
    {
      "cell_type": "markdown",
      "metadata": {
        "id": "NL1z6COzYn31"
      },
      "source": [
        "This example demonstrates how to run AgentQL script in online development environment like [Google Colaboratory](https://colab.research.google.com/)."
      ]
    },
    {
      "cell_type": "markdown",
      "metadata": {
        "id": "cOG_eI8DY3co"
      },
      "source": [
        "Install [AgentQL](https://pypi.org/project/agentql/) library"
      ]
    },
    {
      "cell_type": "code",
      "execution_count": null,
      "metadata": {
        "id": "mGqCFOMozoqj"
      },
      "outputs": [],
      "source": [
        "%pip install agentql"
      ]
    },
    {
      "cell_type": "markdown",
      "metadata": {},
      "source": [
        "Install necessary dependencies and set up AgentQL API key by using `agentql init` command."
      ]
    },
    {
      "cell_type": "code",
      "execution_count": null,
      "metadata": {
        "id": "5a405Rl5lqT1"
      },
      "outputs": [],
      "source": [
        "!agentql init"
      ]
    },
    {
      "cell_type": "markdown",
      "metadata": {},
      "source": [
        "Run AgentQL script. Please note that online environment like Google Colab only supports **asynchronous version** of AgentQL."
      ]
    },
    {
      "cell_type": "code",
      "execution_count": null,
      "metadata": {
        "id": "W3IIXkPJ0iIX"
      },
      "outputs": [],
      "source": [
        "from agentql.ext.playwright.async_api import Page\n",
        "from playwright.async_api import async_playwright\n",
        "\n",
        "\n",
        "URL = \"https://scrapeme.live/shop\"\n",
        "\n",
        "QUERY = \"\"\"\n",
        "{\n",
        "    search_products_box\n",
        "}\n",
        "\"\"\"\n",
        "\n",
        "QUERY_2 = \"\"\"\n",
        "{\n",
        "    number_in_stock\n",
        "}\n",
        "\"\"\"\n",
        "\n",
        "async with async_playwright() as playwright:\n",
        "    # Launch the browser in headless mode\n",
        "    browser = await playwright.chromium.launch(headless=True)\n",
        "\n",
        "    # Create a new page in the broswer and cast it to custom Page type to get access to the AgentQL's querying API\n",
        "    page: Page = await browser.new_page()  # type: ignore\n",
        "\n",
        "    await page.goto(URL)\n",
        "\n",
        "    # Use query_elements() method to locate the search box and search button from the page\n",
        "    response = await page.query_elements(QUERY)\n",
        "\n",
        "    # Use Playwright's API to fill the search box and press Enter\n",
        "    await response.search_products_box.type(\"Charmander\")\n",
        "    await page.keyboard.press(\"Enter\")\n",
        "\n",
        "    # Use query_data() method to fetch the president name from the page\n",
        "    response = await page.query_data(QUERY_2)\n",
        "\n",
        "    print(response)\n",
        "\n",
        "    await browser.close()"
      ]
    }
  ],
  "metadata": {
    "colab": {
      "authorship_tag": "ABX9TyN+D8bbAfsSzsGIEJwCw5ln",
      "include_colab_link": true,
      "provenance": []
    },
    "kernelspec": {
      "display_name": "Python 3",
      "name": "python3"
    },
    "language_info": {
      "codemirror_mode": {
        "name": "ipython",
        "version": 3
      },
      "file_extension": ".py",
      "mimetype": "text/x-python",
      "name": "python",
      "nbconvert_exporter": "python",
      "pygments_lexer": "ipython3",
      "version": "3.11.4"
    }
  },
  "nbformat": 4,
  "nbformat_minor": 0
}
