{
  "cells": [
    {
      "cell_type": "markdown",
      "metadata": {
        "id": "NL1z6COzYn31"
      },
      "source": [
        "This example demonstrates how to run AgentQL script in online development environment like [Google Colaboratory](https://colab.research.google.com/)."
      ]
    },
    {
      "cell_type": "markdown",
      "metadata": {
        "id": "cOG_eI8DY3co"
      },
      "source": [
        "Install [AgentQL](https://pypi.org/project/agentql/) library"
      ]
    },
    {
      "cell_type": "code",
      "execution_count": 2,
      "metadata": {
        "id": "mGqCFOMozoqj"
      },
      "outputs": [
        {
          "name": "stdout",
          "output_type": "stream",
          "text": [
            "Requirement already satisfied: agentql in /Users/frankfeng/.local/share/virtualenvs/wadl-9Hz_jg1-/lib/python3.11/site-packages (0.5.1)\n",
            "Requirement already satisfied: aiofiles<24,>=23 in /Users/frankfeng/.local/share/virtualenvs/wadl-9Hz_jg1-/lib/python3.11/site-packages (from agentql) (23.2.1)\n",
            "Requirement already satisfied: httpx<1,>=0 in /Users/frankfeng/.local/share/virtualenvs/wadl-9Hz_jg1-/lib/python3.11/site-packages (from agentql) (0.27.0)\n",
            "Requirement already satisfied: playwright<2,>=1 in /Users/frankfeng/.local/share/virtualenvs/wadl-9Hz_jg1-/lib/python3.11/site-packages (from agentql) (1.44.0)\n",
            "Requirement already satisfied: pydantic<3,>=2 in /Users/frankfeng/.local/share/virtualenvs/wadl-9Hz_jg1-/lib/python3.11/site-packages (from agentql) (2.7.4)\n",
            "Requirement already satisfied: pytest-asyncio<1,>=0 in /Users/frankfeng/.local/share/virtualenvs/wadl-9Hz_jg1-/lib/python3.11/site-packages (from agentql) (0.23.7)\n",
            "Requirement already satisfied: requests<3,>=2 in /Users/frankfeng/.local/share/virtualenvs/wadl-9Hz_jg1-/lib/python3.11/site-packages (from agentql) (2.32.3)\n",
            "Requirement already satisfied: tf-playwright-stealth in /Users/frankfeng/.local/share/virtualenvs/wadl-9Hz_jg1-/lib/python3.11/site-packages (from agentql) (0.0.1)\n",
            "Requirement already satisfied: typer<1,>=0 in /Users/frankfeng/.local/share/virtualenvs/wadl-9Hz_jg1-/lib/python3.11/site-packages (from agentql) (0.12.3)\n",
            "Requirement already satisfied: anyio in /Users/frankfeng/.local/share/virtualenvs/wadl-9Hz_jg1-/lib/python3.11/site-packages (from httpx<1,>=0->agentql) (4.4.0)\n",
            "Requirement already satisfied: certifi in /Users/frankfeng/.local/share/virtualenvs/wadl-9Hz_jg1-/lib/python3.11/site-packages (from httpx<1,>=0->agentql) (2024.6.2)\n",
            "Requirement already satisfied: httpcore==1.* in /Users/frankfeng/.local/share/virtualenvs/wadl-9Hz_jg1-/lib/python3.11/site-packages (from httpx<1,>=0->agentql) (1.0.5)\n",
            "Requirement already satisfied: idna in /Users/frankfeng/.local/share/virtualenvs/wadl-9Hz_jg1-/lib/python3.11/site-packages (from httpx<1,>=0->agentql) (3.7)\n",
            "Requirement already satisfied: sniffio in /Users/frankfeng/.local/share/virtualenvs/wadl-9Hz_jg1-/lib/python3.11/site-packages (from httpx<1,>=0->agentql) (1.3.1)\n",
            "Requirement already satisfied: h11<0.15,>=0.13 in /Users/frankfeng/.local/share/virtualenvs/wadl-9Hz_jg1-/lib/python3.11/site-packages (from httpcore==1.*->httpx<1,>=0->agentql) (0.14.0)\n",
            "Requirement already satisfied: greenlet==3.0.3 in /Users/frankfeng/.local/share/virtualenvs/wadl-9Hz_jg1-/lib/python3.11/site-packages (from playwright<2,>=1->agentql) (3.0.3)\n",
            "Requirement already satisfied: pyee==11.1.0 in /Users/frankfeng/.local/share/virtualenvs/wadl-9Hz_jg1-/lib/python3.11/site-packages (from playwright<2,>=1->agentql) (11.1.0)\n",
            "Requirement already satisfied: typing-extensions in /Users/frankfeng/.local/share/virtualenvs/wadl-9Hz_jg1-/lib/python3.11/site-packages (from pyee==11.1.0->playwright<2,>=1->agentql) (4.12.2)\n",
            "Requirement already satisfied: annotated-types>=0.4.0 in /Users/frankfeng/.local/share/virtualenvs/wadl-9Hz_jg1-/lib/python3.11/site-packages (from pydantic<3,>=2->agentql) (0.7.0)\n",
            "Requirement already satisfied: pydantic-core==2.18.4 in /Users/frankfeng/.local/share/virtualenvs/wadl-9Hz_jg1-/lib/python3.11/site-packages (from pydantic<3,>=2->agentql) (2.18.4)\n",
            "Requirement already satisfied: pytest<9,>=7.0.0 in /Users/frankfeng/.local/share/virtualenvs/wadl-9Hz_jg1-/lib/python3.11/site-packages (from pytest-asyncio<1,>=0->agentql) (8.2.2)\n",
            "Requirement already satisfied: charset-normalizer<4,>=2 in /Users/frankfeng/.local/share/virtualenvs/wadl-9Hz_jg1-/lib/python3.11/site-packages (from requests<3,>=2->agentql) (3.3.2)\n",
            "Requirement already satisfied: urllib3<3,>=1.21.1 in /Users/frankfeng/.local/share/virtualenvs/wadl-9Hz_jg1-/lib/python3.11/site-packages (from requests<3,>=2->agentql) (2.2.2)\n",
            "Requirement already satisfied: click>=8.0.0 in /Users/frankfeng/.local/share/virtualenvs/wadl-9Hz_jg1-/lib/python3.11/site-packages (from typer<1,>=0->agentql) (8.1.7)\n",
            "Requirement already satisfied: shellingham>=1.3.0 in /Users/frankfeng/.local/share/virtualenvs/wadl-9Hz_jg1-/lib/python3.11/site-packages (from typer<1,>=0->agentql) (1.5.4)\n",
            "Requirement already satisfied: rich>=10.11.0 in /Users/frankfeng/.local/share/virtualenvs/wadl-9Hz_jg1-/lib/python3.11/site-packages (from typer<1,>=0->agentql) (13.7.1)\n",
            "Requirement already satisfied: iniconfig in /Users/frankfeng/.local/share/virtualenvs/wadl-9Hz_jg1-/lib/python3.11/site-packages (from pytest<9,>=7.0.0->pytest-asyncio<1,>=0->agentql) (2.0.0)\n",
            "Requirement already satisfied: packaging in /Users/frankfeng/.local/share/virtualenvs/wadl-9Hz_jg1-/lib/python3.11/site-packages (from pytest<9,>=7.0.0->pytest-asyncio<1,>=0->agentql) (24.1)\n",
            "Requirement already satisfied: pluggy<2.0,>=1.5 in /Users/frankfeng/.local/share/virtualenvs/wadl-9Hz_jg1-/lib/python3.11/site-packages (from pytest<9,>=7.0.0->pytest-asyncio<1,>=0->agentql) (1.5.0)\n",
            "Requirement already satisfied: markdown-it-py>=2.2.0 in /Users/frankfeng/.local/share/virtualenvs/wadl-9Hz_jg1-/lib/python3.11/site-packages (from rich>=10.11.0->typer<1,>=0->agentql) (3.0.0)\n",
            "Requirement already satisfied: pygments<3.0.0,>=2.13.0 in /Users/frankfeng/.local/share/virtualenvs/wadl-9Hz_jg1-/lib/python3.11/site-packages (from rich>=10.11.0->typer<1,>=0->agentql) (2.18.0)\n",
            "Requirement already satisfied: mdurl~=0.1 in /Users/frankfeng/.local/share/virtualenvs/wadl-9Hz_jg1-/lib/python3.11/site-packages (from markdown-it-py>=2.2.0->rich>=10.11.0->typer<1,>=0->agentql) (0.1.2)\n",
            "\n",
            "\u001b[1m[\u001b[0m\u001b[34;49mnotice\u001b[0m\u001b[1;39;49m]\u001b[0m\u001b[39;49m A new release of pip is available: \u001b[0m\u001b[31;49m23.3.1\u001b[0m\u001b[39;49m -> \u001b[0m\u001b[32;49m24.2\u001b[0m\n",
            "\u001b[1m[\u001b[0m\u001b[34;49mnotice\u001b[0m\u001b[1;39;49m]\u001b[0m\u001b[39;49m To update, run: \u001b[0m\u001b[32;49mpip install --upgrade pip\u001b[0m\n"
          ]
        }
      ],
      "source": [
        "!pip install agentql"
      ]
    },
    {
      "cell_type": "markdown",
      "metadata": {},
      "source": [
        "Install necessary dependencies and set up AgentQL API key by using `agentql init` command."
      ]
    },
    {
      "cell_type": "code",
      "execution_count": 3,
      "metadata": {
        "id": "5a405Rl5lqT1"
      },
      "outputs": [
        {
          "ename": "ModuleNotFoundError",
          "evalue": "No module named 'google.colab'",
          "output_type": "error",
          "traceback": [
            "\u001b[0;31m---------------------------------------------------------------------------\u001b[0m",
            "\u001b[0;31mModuleNotFoundError\u001b[0m                       Traceback (most recent call last)",
            "Cell \u001b[0;32mIn[3], line 2\u001b[0m\n\u001b[1;32m      1\u001b[0m \u001b[38;5;28;01mimport\u001b[39;00m \u001b[38;5;21;01mos\u001b[39;00m\n\u001b[0;32m----> 2\u001b[0m \u001b[38;5;28;01mfrom\u001b[39;00m \u001b[38;5;21;01mgoogle\u001b[39;00m\u001b[38;5;21;01m.\u001b[39;00m\u001b[38;5;21;01mcolab\u001b[39;00m \u001b[38;5;28;01mimport\u001b[39;00m userdata\n\u001b[1;32m      4\u001b[0m os\u001b[38;5;241m.\u001b[39menviron[\u001b[38;5;124m\"\u001b[39m\u001b[38;5;124mAGENTQL_API_KEY\u001b[39m\u001b[38;5;124m\"\u001b[39m]\u001b[38;5;241m=\u001b[39muserdata\u001b[38;5;241m.\u001b[39mget(\u001b[38;5;124m'\u001b[39m\u001b[38;5;124mAGENTQL_API_KEY\u001b[39m\u001b[38;5;124m'\u001b[39m)\n",
            "\u001b[0;31mModuleNotFoundError\u001b[0m: No module named 'google.colab'"
          ]
        }
      ],
      "source": [
        "!agentql init"
      ]
    },
    {
      "cell_type": "markdown",
      "metadata": {},
      "source": [
        "Run AgentQL script. Please note that online environment like Google Colab only supports **asynchronous version** of AgentQL."
      ]
    },
    {
      "cell_type": "code",
      "execution_count": null,
      "metadata": {
        "id": "W3IIXkPJ0iIX"
      },
      "outputs": [],
      "source": [
        "from agentql.ext.playwright.async_api import Page\n",
        "from playwright.async_api import async_playwright\n",
        "\n",
        "\n",
        "URL = \"https://scrapeme.live/shop\"\n",
        "\n",
        "QUERY = \"\"\"\n",
        "{\n",
        "    search_products_box\n",
        "}\n",
        "\"\"\"\n",
        "\n",
        "QUERY_2 = \"\"\"\n",
        "{\n",
        "    number_in_stock\n",
        "}\n",
        "\"\"\"\n",
        "\n",
        "async with async_playwright() as playwright:\n",
        "    # Launch the browser in headless mode\n",
        "    browser = await playwright.chromium.launch(headless=True)\n",
        "\n",
        "    # Create a new page in the broswer and cast it to custom Page type to get access to the AgentQL's querying API\n",
        "    page: Page = await browser.new_page()  # type: ignore\n",
        "\n",
        "    await page.goto(URL)\n",
        "\n",
        "    # Use query_elements() method to locate the search box and search button from the page\n",
        "    response = await page.query_elements(QUERY)\n",
        "\n",
        "    # Use Playwright's API to fill the search box and press Enter\n",
        "    await response.search_products_box.type(\"Charmander\")\n",
        "    await page.keyboard.press(\"Enter\")\n",
        "\n",
        "    # Use query_data() method to fetch the president name from the page\n",
        "    response = await page.query_data(QUERY_2)\n",
        "\n",
        "    print(response)\n",
        "\n",
        "    await browser.close()"
      ]
    }
  ],
  "metadata": {
    "colab": {
      "authorship_tag": "ABX9TyN+D8bbAfsSzsGIEJwCw5ln",
      "include_colab_link": true,
      "provenance": []
    },
    "kernelspec": {
      "display_name": "Python 3",
      "name": "python3"
    },
    "language_info": {
      "codemirror_mode": {
        "name": "ipython",
        "version": 3
      },
      "file_extension": ".py",
      "mimetype": "text/x-python",
      "name": "python",
      "nbconvert_exporter": "python",
      "pygments_lexer": "ipython3",
      "version": "3.11.4"
    }
  },
  "nbformat": 4,
  "nbformat_minor": 0
}
